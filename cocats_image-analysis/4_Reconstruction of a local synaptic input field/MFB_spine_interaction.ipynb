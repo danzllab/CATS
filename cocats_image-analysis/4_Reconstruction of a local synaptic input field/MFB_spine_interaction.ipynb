{
 "cells": [
  {
   "cell_type": "code",
   "execution_count": null,
   "id": "61dc5aef-5caa-4961-ab8a-4580489d7b66",
   "metadata": {},
   "outputs": [],
   "source": [
    "#Loads packages\n",
    "import numpy as np\n",
    "import tifffile\n",
    "import napari\n",
    "import pandas as pd\n",
    "\n",
    "from skimage.morphology import ball, binary_dilation, dilation\n",
    "from skimage.measure import label, regionprops"
   ]
  },
  {
   "cell_type": "markdown",
   "id": "87e7b57e-2e90-4ba1-9cbf-eb0a3a6964f0",
   "metadata": {},
   "source": [
    "This notebook is used to quantify interactions between mossy fiber boutons and complex spines. The algorithm requires segmentations of MFBs, pSCRs, and complex spines as input. The output consists of two .csv files containing information about MFB-Spines and Spine-MFBs interaction statistics.\n",
    "\n",
    "Test data includes exemplary segmentation ROI with two MFBs and a fragment of pyramidal neuron proximal dendrite with multiple complex spines."
   ]
  },
  {
   "cell_type": "markdown",
   "id": "77f21627-03d3-43e9-a8b6-14b3be9bda6b",
   "metadata": {},
   "source": [
    "#### Load segmentation data"
   ]
  },
  {
   "cell_type": "code",
   "execution_count": null,
   "id": "cce73e5c-ded5-4033-9092-142c72684464",
   "metadata": {},
   "outputs": [],
   "source": [
    "#Loads segmented MFBs, pSCRs, and PN with complex spines\n",
    "boutons = tifffile.imread('.\\\\data\\\\boutons_roi.tif')\n",
    "spines_and_pn = tifffile.imread('.\\\\data\\\\spines_and_pn_roi.tif')\n",
    "pscrs = tifffile.imread('.\\\\data\\\\pscrs_roi.tif')"
   ]
  },
  {
   "cell_type": "code",
   "execution_count": null,
   "id": "9887120d-ed24-4ff4-aff3-db1107beb08d",
   "metadata": {},
   "outputs": [],
   "source": [
    "#Creates separate layers for the PN and complex spines\n",
    "pn_seg = spines_and_pn==85\n",
    "spines = spines_and_pn-pn_seg*85"
   ]
  },
  {
   "cell_type": "code",
   "execution_count": null,
   "id": "e63a1c4b-c695-422b-b739-c180b85001d5",
   "metadata": {},
   "outputs": [],
   "source": [
    "#Sets up napari Viewer and displays segmentation data\n",
    "viewer = napari.Viewer()\n",
    "viewer.add_labels(boutons, name='boutons')\n",
    "viewer.add_labels(spines, name='spines')\n",
    "viewer.add_labels(pn_seg, name='PN')\n",
    "viewer.add_labels(pscrs, name='pSCRs')"
   ]
  },
  {
   "cell_type": "markdown",
   "id": "93e48012-632c-49a0-8373-4c8025cd6ca0",
   "metadata": {},
   "source": [
    "#### Association of pSCRs with MFBs and complex spines"
   ]
  },
  {
   "cell_type": "code",
   "execution_count": null,
   "id": "1f12959b-5a7c-431e-bac2-ade7c7b8a3cd",
   "metadata": {},
   "outputs": [],
   "source": [
    "#Dilates pSCRs\n",
    "pscrs_expanded = dilation(pscrs, ball(1))"
   ]
  },
  {
   "cell_type": "code",
   "execution_count": null,
   "id": "9af8f6f4-e833-4b34-abbb-ef455af3eeea",
   "metadata": {},
   "outputs": [],
   "source": [
    "#Finds MFBs associated with each individual pSCR\n",
    "rp_pscrs_boutons = regionprops(pscrs_expanded, intensity_image = boutons)\n",
    "pscr_stats = pd.DataFrame(columns = ['pscr id', 'list of boutons','overlap in px pscr-bouton'])\n",
    "for i in range(len(rp_pscrs_boutons)):\n",
    "    ids_bouton,counts = np.unique(rp_pscrs_boutons[i].intensity_image, return_counts=True)\n",
    "    counts = counts[np.nonzero(ids_bouton)]\n",
    "    ids_bouton = ids_bouton[ids_bouton!=0]\n",
    "    data = [[rp_pscrs_boutons[i].label, list(ids_bouton), counts]]\n",
    "    df = pd.DataFrame(data=data, columns = ['pscr id', 'list of boutons','overlap in px pscr-bouton'])\n",
    "    pscr_stats = pscr_stats.append(df)"
   ]
  },
  {
   "cell_type": "code",
   "execution_count": null,
   "id": "18691e60-5ab6-47cf-8bc9-59075beefe0f",
   "metadata": {},
   "outputs": [],
   "source": [
    "#Finds complex spines associated with each individual pSCR\n",
    "rp_pscrs_spines = regionprops(pscrs_expanded, intensity_image = spines_and_pn)\n",
    "pscr_stats_1 = pd.DataFrame(columns = ['pscr id', 'list of spines', 'overlap in px pscr-spine'])\n",
    "for i in range(len(rp_pscrs_spines)):\n",
    "    ids_spines,counts = np.unique(rp_pscrs_spines[i].intensity_image, return_counts=True)\n",
    "    counts = counts[np.nonzero(ids_spines)]\n",
    "    ids_spines = ids_spines[ids_spines!=0]\n",
    "    data = [[rp_pscrs_spines[i].label, list(ids_spines), counts]]\n",
    "    df = pd.DataFrame(data=data, columns = ['pscr id', 'list of spines','overlap in px pscr-spine'])\n",
    "    pscr_stats_1 = pscr_stats_1.append(df)"
   ]
  },
  {
   "cell_type": "code",
   "execution_count": null,
   "id": "fe2f926d-18c2-4f42-ab51-cc1c80f02c54",
   "metadata": {},
   "outputs": [],
   "source": [
    "#Creates a table containing the results\n",
    "pscr_stats['list of spines'] = pscr_stats_1['list of spines']\n",
    "pscr_stats['overlap in px pscr-spine'] = pscr_stats_1['overlap in px pscr-spine']"
   ]
  },
  {
   "cell_type": "code",
   "execution_count": null,
   "id": "f30a8d43-4b0f-4354-bbae-4c7e85b691a1",
   "metadata": {},
   "outputs": [],
   "source": [
    "#Resolves one-to-many cases\n",
    "#if one pSCR is associated with more than one bouton, the pair with the largest overlap in voxels is preserved\n",
    "for i in range(len(pscr_stats)):\n",
    "    if len(pscr_stats['list of boutons'].iloc[i])>1 and len(pscr_stats['list of spines'].iloc[i])>0:\n",
    "        pscr_stats['list of boutons'].iloc[i] = [pscr_stats['list of boutons'].iloc[i][np.argmax(pscr_stats['overlap in px pscr-bouton'].iloc[i])]]"
   ]
  },
  {
   "cell_type": "markdown",
   "id": "d5f2a4ab-84d3-421b-a98e-5e5d24c70875",
   "metadata": {},
   "source": [
    "#### Get MFB-spines and Spine-MFBs interaction statistics"
   ]
  },
  {
   "cell_type": "code",
   "execution_count": null,
   "id": "2a314dfc-cfd2-4950-baaf-122c21d31790",
   "metadata": {},
   "outputs": [],
   "source": [
    "#Creates table with MFB-Spines interaction statistics\n",
    "boutons_stat = pd.DataFrame(columns = ['bouton id', 'num of pscrs', 'num of spines', 'list of spines'])\n",
    "for i in [11,65]:\n",
    "    spines_list = []\n",
    "    num_of_pscrs=0\n",
    "    for j in range(len(pscr_stats)):\n",
    "        if i in pscr_stats['list of boutons'].iloc[j]:\n",
    "            num_of_pscrs+=1\n",
    "            if len(pscr_stats['list of spines'].iloc[j])>0:\n",
    "                spines_list.append(pscr_stats['list of spines'].iloc[j])\n",
    "    spines_list = [item for sublist in spines_list for item in sublist]\n",
    "    spines_list = list( dict.fromkeys(spines_list) )\n",
    "    data = [[i, num_of_pscrs,len(spines_list),spines_list]]\n",
    "    df = pd.DataFrame(data=data, columns = ['bouton id', 'num of pscrs', 'num of spines', 'list of spines'])\n",
    "    boutons_stat = boutons_stat.append(df)"
   ]
  },
  {
   "cell_type": "code",
   "execution_count": null,
   "id": "996a6ca1-53ed-45c4-b170-75ec65055c52",
   "metadata": {},
   "outputs": [],
   "source": [
    "#Outputs the MFB-Spines interaction table\n",
    "boutons_stat"
   ]
  },
  {
   "cell_type": "code",
   "execution_count": null,
   "id": "bad5abf8-84da-4c92-858d-4f75c9973c75",
   "metadata": {},
   "outputs": [],
   "source": [
    "#Creates table with Spine-MFBs interaction statistics\n",
    "spine_stat = pd.DataFrame(columns = ['spine id', 'num of pscrs', 'num of boutons', 'list of boutons'])\n",
    "for i in [7, 10, 11, 15, 21, 22, 27, 28, 31, 44, 45, 51, 59, 62, 66, 67]:\n",
    "    boutons_list = []\n",
    "    num_of_pscrs=0\n",
    "    for j in range(len(pscr_stats)):\n",
    "        if i in pscr_stats['list of spines'].iloc[j]:\n",
    "            num_of_pscrs+=1\n",
    "            if len(pscr_stats['list of boutons'].iloc[j])>0:\n",
    "                boutons_list.append(pscr_stats['list of boutons'].iloc[j])\n",
    "    boutons_list = [item for sublist in boutons_list for item in sublist]\n",
    "    boutons_list = list( dict.fromkeys(boutons_list) )\n",
    "    data = [[i, num_of_pscrs,len(boutons_list),boutons_list]]\n",
    "    df = pd.DataFrame(data=data, columns = ['spine id', 'num of pscrs', 'num of boutons', 'list of boutons'])\n",
    "    spine_stat = spine_stat.append(df)"
   ]
  },
  {
   "cell_type": "code",
   "execution_count": null,
   "id": "bcf6f9b8-33e8-4d92-b189-15ee16676344",
   "metadata": {},
   "outputs": [],
   "source": [
    "#Outputs the Spine-MFBs interaction table\n",
    "spine_stat"
   ]
  },
  {
   "cell_type": "markdown",
   "id": "c7ae4c44-18db-44ab-a419-6c262de5fafc",
   "metadata": {},
   "source": [
    "#### Save tables as csv files"
   ]
  },
  {
   "cell_type": "code",
   "execution_count": null,
   "id": "135a602d-9439-4f15-9702-e529d301071a",
   "metadata": {},
   "outputs": [],
   "source": [
    "#Saves results\n",
    "boutons_stat.to_csv('MFB-Spines_interaction_stats.csv')\n",
    "spine_stat.to_csv('Spines-MFB_interaction_stats.csv')"
   ]
  }
 ],
 "metadata": {
  "kernelspec": {
   "display_name": "Python 3 (ipykernel)",
   "language": "python",
   "name": "python3"
  },
  "language_info": {
   "codemirror_mode": {
    "name": "ipython",
    "version": 3
   },
   "file_extension": ".py",
   "mimetype": "text/x-python",
   "name": "python",
   "nbconvert_exporter": "python",
   "pygments_lexer": "ipython3",
   "version": "3.9.13"
  }
 },
 "nbformat": 4,
 "nbformat_minor": 5
}
