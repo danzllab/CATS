{
 "cells": [
  {
   "cell_type": "code",
   "execution_count": null,
   "id": "8d9ed80a-826b-45d4-b389-a061d0ad7dfc",
   "metadata": {},
   "outputs": [],
   "source": [
    "#Loads packages\n",
    "import numpy as np\n",
    "import tifffile\n",
    "import napari\n",
    "import pandas as pd\n",
    "\n",
    "from scipy import ndimage as ndi\n",
    "from skimage.exposure import rescale_intensity\n",
    "from skimage.morphology import ball, opening,binary_dilation, dilation\n",
    "from skimage.filters import threshold_otsu\n",
    "from skimage.measure import label, regionprops"
   ]
  },
  {
   "cell_type": "code",
   "execution_count": null,
   "id": "5546b392-52d7-4ca9-83e6-9ab39c4db562",
   "metadata": {},
   "outputs": [],
   "source": [
    "#Function to remove background from imaging data\n",
    "def remove_backg(img, sig1,sig2):\n",
    "    img = img.astype('int16')\n",
    "    img_sig =ndi.gaussian_filter(img, (sig1, sig1,sig1))\n",
    "    img_bcg = ndi.gaussian_filter(img, (sig2,sig2,sig2))\n",
    "    cleaned = img_sig - img_bcg\n",
    "    cleaned[cleaned<0]=0\n",
    "    return cleaned"
   ]
  },
  {
   "cell_type": "code",
   "execution_count": null,
   "id": "0d4b5347-efb6-4aa6-80e1-cf50894d1a39",
   "metadata": {},
   "outputs": [],
   "source": [
    "#Function to remove segments smaller than min_size voxels\n",
    "def erase_small(labels, min_size):\n",
    "    unique, counts = np.unique(labels, return_counts=True)\n",
    "    for i in range(len(unique)):\n",
    "        if counts[i]<min_size:\n",
    "            labels[labels==unique[i]]=0\n",
    "    return labels"
   ]
  },
  {
   "cell_type": "markdown",
   "id": "c5f9d4d9-5241-4383-a524-cc9e2e9dcfc8",
   "metadata": {},
   "source": [
    "This notebook is used to perform automated synapse detection guided by immunostaining for synaptic markers. The algorithm uses coCATS (N2V), BASSOON and SHANK2 imaging data as input, as well as manual segmentation of mossy fiber boutons. The output contains pSCR instance segmentation associated with manually segmented boutons.\n",
    "\n",
    "The test data includes a ROI with a single manually segmented bouton."
   ]
  },
  {
   "cell_type": "markdown",
   "id": "d5b0acda-cf39-40d8-865b-7651e7bddf72",
   "metadata": {},
   "source": [
    "#### Load imaging data"
   ]
  },
  {
   "cell_type": "code",
   "execution_count": null,
   "id": "42e1ba93-c41f-4cd4-bc7d-a47fb43f7f34",
   "metadata": {},
   "outputs": [],
   "source": [
    "#Loads imaging data\n",
    "img = tifffile.imread('.\\\\data\\\\bassoon_shank2.tif')\n",
    "bassoon = img[:,0,:,:]\n",
    "shank2 = img[:,1,:,:]\n",
    "cats = tifffile.imread('.\\\\data\\\\cats_n2v.tif')\n",
    "segmentation = tifffile.imread('.\\\\data\\\\bouton_segmentation.tif')"
   ]
  },
  {
   "cell_type": "code",
   "execution_count": null,
   "id": "fc770d1c-2a07-46b7-81fd-3a1d7fb76772",
   "metadata": {},
   "outputs": [],
   "source": [
    "#Sets up napari Viewer and displays coCATS imaging data as well as manual MFB segmentation\n",
    "viewer = napari.Viewer()\n",
    "viewer.add_image(cats,colormap='gray_r', name='coCATS')\n",
    "viewer.add_labels(segmentation.astype('int16'), name='MFB segmentation')"
   ]
  },
  {
   "cell_type": "markdown",
   "id": "9a31d3f0-38b1-4807-be45-8f7f44b3d369",
   "metadata": {},
   "source": [
    "#### Pre-process immunostaining data"
   ]
  },
  {
   "cell_type": "code",
   "execution_count": null,
   "id": "0ec28287-fa8c-4232-b3c8-d0a5743155df",
   "metadata": {},
   "outputs": [],
   "source": [
    "#Denoises BASSOON and SHANK2 \n",
    "sig1 = 1\n",
    "sig2 = 15\n",
    "bassoon_cleaned = remove_backg(bassoon, sig1,sig2)\n",
    "shank2_cleaned = remove_backg(shank2, sig1,sig2)\n",
    "\n",
    "#Displays denoised data in napari\n",
    "viewer.add_image(bassoon_cleaned, colormap='magenta', blending = 'additive', name='bassoon cleaned')\n",
    "viewer.add_image(shank2_cleaned, colormap='cyan', blending = 'additive', name='shank2 cleaned')"
   ]
  },
  {
   "cell_type": "code",
   "execution_count": null,
   "id": "00e6f670-aab3-4fa2-9853-474fabbf44a5",
   "metadata": {},
   "outputs": [],
   "source": [
    "#Thresholds BASSOON and displays the resulting mask in napari\n",
    "threshhold_bassoon = threshold_otsu(bassoon_cleaned)\n",
    "mask_bassoon = bassoon_cleaned > threshhold_bassoon\n",
    "viewer.add_image(mask_bassoon,name='Mask bassoon', colormap='bop purple', blending = 'additive')\n",
    "\n",
    "#Thresholds SHANK2 and displays the resulting mask in napari\n",
    "threshhold_shank2 = threshold_otsu(shank2_cleaned)\n",
    "mask_shank2 = shank2_cleaned > threshhold_shank2\n",
    "viewer.add_image(mask_shank2,name='Mask shank2', colormap='bop blue', blending = 'additive')"
   ]
  },
  {
   "cell_type": "markdown",
   "id": "f693daf7-6f19-4e3a-b052-173c20499fb9",
   "metadata": {},
   "source": [
    "#### Local search"
   ]
  },
  {
   "cell_type": "code",
   "execution_count": null,
   "id": "24485a7b-656c-4b68-8323-e249410afe23",
   "metadata": {},
   "outputs": [],
   "source": [
    "#Stretches contrast of coCATS data\n",
    "vmin, vmax = np.quantile(cats, q=(0.01, 0.99))\n",
    "stretched_cats = rescale_intensity(\n",
    "    cats, \n",
    "    in_range=(vmin, vmax), \n",
    ")\n",
    "#Dilates SHANK2 mask\n",
    "structure = ball(2)\n",
    "mask_expanded = binary_dilation(mask_shank2, structure)\n",
    "\n",
    "#Crops coCATS data according to dilated SHANK2 mask\n",
    "filt_cats = stretched_cats*mask_expanded\n",
    "filt_cats[filt_cats<0]=0\n",
    "\n",
    "#Displays the cropped coCATS data in napari\n",
    "viewer.add_image(filt_cats,name='Cropped coCATS data', colormap='bop orange', blending = 'additive')"
   ]
  },
  {
   "cell_type": "code",
   "execution_count": null,
   "id": "b58420ca-577e-4c56-a5ea-e648ce9fde77",
   "metadata": {},
   "outputs": [],
   "source": [
    "#Thresholds cropped coCATS data\n",
    "p95,p100 = np.percentile(filt_cats, (95, 100))\n",
    "thr1 = (p100-p95)*0.65 + p95 \n",
    "mask_cats = filt_cats>thr1\n",
    "\n",
    "#Displays the resulting mask in napari\n",
    "viewer.add_image(mask_cats,name='Mask coCATS', colormap='bop orange', blending = 'additive')"
   ]
  },
  {
   "cell_type": "markdown",
   "id": "aafd4d39-02c3-426d-8876-8fb985c61d08",
   "metadata": {},
   "source": [
    "#### Colocalization analysis"
   ]
  },
  {
   "cell_type": "code",
   "execution_count": null,
   "id": "3e3edc53-e57f-4cdd-83e0-0a8f8122a5dc",
   "metadata": {},
   "outputs": [],
   "source": [
    "#Creates instance segmentation of high-intensity coCATS features\n",
    "labels_cats = label(mask_cats)\n",
    "labels_cats = erase_small(labels_cats, 8)"
   ]
  },
  {
   "cell_type": "code",
   "execution_count": null,
   "id": "91c24636-ff98-4f9f-bc34-3900a50b1d12",
   "metadata": {},
   "outputs": [],
   "source": [
    "#Identifies pSCRs by colocalization with BASSOON and SHANK2\n",
    "shank_and_bassoon = mask_bassoon.astype('int')+mask_shank2.astype('int')\n",
    "cats_props = regionprops(labels_cats, intensity_image = shank_and_bassoon)\n",
    "cats_triple_colocalized = [x.label for x in cats_props if x.max_intensity > 1]\n",
    "pSCRs = np.isin(labels_cats,cats_triple_colocalized)\n",
    "pSCRs = labels_cats*pSCRs\n",
    "\n",
    "#Displays all pSCRs in napari\n",
    "viewer.add_labels(pSCRs, name='pSCRs')"
   ]
  },
  {
   "cell_type": "markdown",
   "id": "de9e2866-f33e-4db2-8e32-d1785557f36f",
   "metadata": {},
   "source": [
    "#### pSCR - Bouton association"
   ]
  },
  {
   "cell_type": "code",
   "execution_count": null,
   "id": "89f78943-b577-4aa7-addd-712b3e8f0fda",
   "metadata": {},
   "outputs": [],
   "source": [
    "#Selects pSCRs associated with manually segmented MFBs\n",
    "expanded_boutons = dilation(segmentation, ball(2))\n",
    "bouton_props = regionprops(expanded_boutons.astype('int16'),intensity_image = pSCRs)\n",
    "boutons_stats = pd.DataFrame(columns = ['bouton id', 'number of pSCRs','list of pSCRs'])\n",
    "for i in range(len(bouton_props)):\n",
    "    ids_pSCRs_in_bouton = np.unique(bouton_props[i].intensity_image)\n",
    "    ids_pSCRs_in_bouton = ids_pSCRs_in_bouton[ids_pSCRs_in_bouton!=0]\n",
    "    data = [[bouton_props[i].label, len(ids_pSCRs_in_bouton),list(ids_pSCRs_in_bouton)]]\n",
    "    df = pd.DataFrame(data=data, columns = ['bouton id', 'number of pSCRs','list of pSCRs'])\n",
    "    boutons_stats = boutons_stats.append(df)\n",
    "\n",
    "pSCRs_in_boutons_ids = boutons_stats['list of pSCRs'].tolist()\n",
    "pSCRs_in_boutons_ids = [item for sublist in pSCRs_in_boutons_ids for item in sublist]\n",
    "pSCRs_in_boutons_ids = np.unique(pSCRs_in_boutons_ids)\n",
    "pSCRs_in_boutons = np.isin(pSCRs,pSCRs_in_boutons_ids)\n",
    "pSCRs_in_boutons  = pSCRs*pSCRs_in_boutons\n",
    "\n",
    "#Displays pSCRs associated with manually segmented MFBs in napari\n",
    "viewer.add_labels(pSCRs_in_boutons, name='pSCRs in boutons')"
   ]
  },
  {
   "cell_type": "markdown",
   "id": "e06d6e69-9866-4c96-b8f3-88bb5c2b7707",
   "metadata": {},
   "source": [
    "#### Post-processing for VAST: combine pSCRs and MFBs into one layer"
   ]
  },
  {
   "cell_type": "code",
   "execution_count": null,
   "id": "23ce8a8d-0ecf-4086-b391-5779d17136f0",
   "metadata": {},
   "outputs": [],
   "source": [
    "#Creates a new layer combining MFB and pSCR segments\n",
    "boutons = np.zeros((segmentation.shape[0], segmentation.shape[1], segmentation.shape[2]), dtype = 'int16')\n",
    "boutons = segmentation + np.amax(pSCRs_in_boutons)+1\n",
    "mask = boutons >np.amax(pSCRs_in_boutons)+1\n",
    "boutons  = boutons *mask \n",
    "pSCRs_and_boutons = np.zeros((2, cats.shape[0],cats.shape[1],cats.shape[2]), dtype = 'int16')\n",
    "pSCRs_and_boutons[0] = boutons\n",
    "pSCRs_and_boutons[1]= pSCRs_in_boutons\n",
    "pSCRs_and_boutons = pSCRs_and_boutons.max(0)\n",
    "\n",
    "#Displays the new layer in napari\n",
    "viewer.add_labels(pSCRs_and_boutons, name='pSCRs and boutons in one layer')"
   ]
  }
 ],
 "metadata": {
  "kernelspec": {
   "display_name": "Python 3 (ipykernel)",
   "language": "python",
   "name": "python3"
  },
  "language_info": {
   "codemirror_mode": {
    "name": "ipython",
    "version": 3
   },
   "file_extension": ".py",
   "mimetype": "text/x-python",
   "name": "python",
   "nbconvert_exporter": "python",
   "pygments_lexer": "ipython3",
   "version": "3.9.13"
  }
 },
 "nbformat": 4,
 "nbformat_minor": 5
}
