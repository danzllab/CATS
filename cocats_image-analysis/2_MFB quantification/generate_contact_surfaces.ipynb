{
 "cells": [
  {
   "cell_type": "code",
   "execution_count": null,
   "id": "724d2b70-e3ed-49b2-8098-7f2a7dcee52f",
   "metadata": {},
   "outputs": [],
   "source": [
    "#Loads packages\n",
    "import numpy as np\n",
    "import tifffile\n",
    "import napari\n",
    "from scipy import ndimage as ndi\n",
    "from skimage.filters import threshold_otsu,threshold_local\n",
    "from skimage.morphology import ball\n",
    "from skimage.transform import resize\n",
    "from skimage.measure import label,regionprops\n",
    "from skimage.exposure import rescale_intensity\n",
    "\n",
    "import open3d as o3d"
   ]
  },
  {
   "cell_type": "markdown",
   "id": "fa159d5f-99b8-43c4-a400-11c07957d12e",
   "metadata": {},
   "source": [
    "This notebook is used to extract areas occupied by pSCRs. The algorithm takes bouton and pSCR segments as an input, and outputs .stl file with a contact surface mesh for further processing in Blender.\n",
    "\n",
    "Test data includes exemplary segmentation of one bouton and one pSCR."
   ]
  },
  {
   "cell_type": "markdown",
   "id": "b77870bb-2707-4c2e-bfd5-80539d235491",
   "metadata": {},
   "source": [
    "#### Load segmentation file with boutons and pSCRs"
   ]
  },
  {
   "cell_type": "code",
   "execution_count": null,
   "id": "74d89430-7e32-4a27-83a0-74a88ad19467",
   "metadata": {},
   "outputs": [],
   "source": [
    "segmentation = tifffile.imread('.\\\\data\\\\bouton_and_pscr.tif')"
   ]
  },
  {
   "cell_type": "markdown",
   "id": "831952cd-4a02-45df-958f-c9ade2241f98",
   "metadata": {},
   "source": [
    "#### Extract voxels that touch the bouton"
   ]
  },
  {
   "cell_type": "code",
   "execution_count": null,
   "id": "62f4af70-4c60-43e8-b623-0cd56df36644",
   "metadata": {},
   "outputs": [],
   "source": [
    "bouton_id = 9\n",
    "\n",
    "def test_func(values):\n",
    "    current_px = values[3]\n",
    "    border = 0\n",
    "    if current_px not in [bouton_id]:\n",
    "        for i in range(len(values)):\n",
    "            if values[i] in [bouton_id]:\n",
    "                border = current_px\n",
    "    return border\n",
    "\n",
    "footprint = np.array([[[0,0,0],\n",
    "                      [0,1,0],\n",
    "                      [0,0,0]], \n",
    "                     [[0,1,0],\n",
    "                      [1,1,1],\n",
    "                      [0,1,0]],\n",
    "                     [[0,0,0],\n",
    "                      [0,1,0],\n",
    "                      [0,0,0]]])\n",
    "\n",
    "contact_surfaces = ndi.generic_filter(segmentation, test_func, footprint=footprint, mode = 'constant')"
   ]
  },
  {
   "cell_type": "code",
   "execution_count": null,
   "id": "68165a94-236a-427c-8880-2150aaca85f7",
   "metadata": {},
   "outputs": [],
   "source": [
    "#Sets up napari Viewer and displays MFB segment, associated pSCR segment and the extracted boundary voxels\n",
    "viewer = napari.Viewer()\n",
    "viewer.add_labels(segmentation.astype('int16'), name='bouton and pSCRs')\n",
    "viewer.add_labels(contact_surfaces,name='contact surfaces')"
   ]
  },
  {
   "cell_type": "markdown",
   "id": "0c9a6fb2-ff6e-4839-b866-0fb9988c126d",
   "metadata": {},
   "source": [
    "#### Generate 3D meshes from voxels' coordinates"
   ]
  },
  {
   "cell_type": "code",
   "execution_count": null,
   "id": "ab2564c5-b554-4efa-905b-24f2174c6a7e",
   "metadata": {},
   "outputs": [],
   "source": [
    "#Gets coordinates of boundary voxels\n",
    "rp = regionprops(contact_surfaces)"
   ]
  },
  {
   "cell_type": "code",
   "execution_count": null,
   "id": "5490e163-1f2e-4b85-bdd4-459ac093d3aa",
   "metadata": {},
   "outputs": [],
   "source": [
    "#Transforms the coordinates into point cloud data format\n",
    "pcd = o3d.geometry.PointCloud()\n",
    "pcd.points = o3d.utility.Vector3dVector(rp[0].coords)\n",
    "pcd.estimate_normals(o3d.geometry.KDTreeSearchParamHybrid(radius=3,\n",
    "                                                          max_nn=8))\n",
    "pcd.orient_normals_consistent_tangent_plane(10)\n",
    "pcd.normalize_normals()"
   ]
  },
  {
   "cell_type": "code",
   "execution_count": null,
   "id": "dd1a5021-6312-48b7-82ea-395001d3aad8",
   "metadata": {},
   "outputs": [],
   "source": [
    "#Generates and visualizes the mesh\n",
    "radii = [1,1.5]\n",
    "mesh = o3d.geometry.TriangleMesh.create_from_point_cloud_ball_pivoting(\n",
    "    pcd, o3d.utility.DoubleVector(radii))\n",
    "o3d.visualization.draw_geometries([pcd, mesh])"
   ]
  },
  {
   "cell_type": "code",
   "execution_count": null,
   "id": "969f3263-953b-4e75-a1a5-29f314796df2",
   "metadata": {},
   "outputs": [],
   "source": [
    "#Saves mesh as .stl file for further processing in Blender\n",
    "mesh.scale(0.5, center=(0, 0, 0))\n",
    "o3d.io.write_triangle_mesh(str(rp[0].label)+'.stl',mesh)"
   ]
  },
  {
   "cell_type": "code",
   "execution_count": null,
   "id": "e7e264c0-4728-4ddb-8d3c-7ec92b22ef2b",
   "metadata": {},
   "outputs": [],
   "source": []
  }
 ],
 "metadata": {
  "kernelspec": {
   "display_name": "Python 3 (ipykernel)",
   "language": "python",
   "name": "python3"
  },
  "language_info": {
   "codemirror_mode": {
    "name": "ipython",
    "version": 3
   },
   "file_extension": ".py",
   "mimetype": "text/x-python",
   "name": "python",
   "nbconvert_exporter": "python",
   "pygments_lexer": "ipython3",
   "version": "3.9.13"
  }
 },
 "nbformat": 4,
 "nbformat_minor": 5
}
