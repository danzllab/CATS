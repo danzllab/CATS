{
 "cells": [
  {
   "cell_type": "code",
   "execution_count": 3,
   "id": "05df0738-89af-45de-9967-c7ad8e9bd06c",
   "metadata": {},
   "outputs": [],
   "source": [
    "#Loads packages\n",
    "import numpy as np\n",
    "import pandas as pd\n",
    "import tifffile\n",
    "import napari\n",
    "import matplotlib.pyplot as plt\n",
    "from scipy import ndimage as ndi\n",
    "from skimage.filters import threshold_multiotsu, threshold_otsu\n",
    "from skimage.morphology import ball, binary_dilation,erosion\n",
    "from skimage.exposure import rescale_intensity\n",
    "from skimage.measure import label, regionprops"
   ]
  },
  {
   "cell_type": "code",
   "execution_count": null,
   "id": "9d6966c9-0bc1-4849-9644-5f03733f6400",
   "metadata": {},
   "outputs": [],
   "source": [
    "#Function to remove segments smaller than min_size voxels\n",
    "def erase_small(labels, min_size):\n",
    "    unique, counts = np.unique(labels, return_counts=True)\n",
    "    for i in range(len(unique)):\n",
    "        if counts[i]<min_size:\n",
    "            labels[labels==unique[i]]=0\n",
    "    return labels"
   ]
  },
  {
   "cell_type": "code",
   "execution_count": null,
   "id": "c3be4c26-aa6a-49b0-aac0-75d8e66bef51",
   "metadata": {},
   "outputs": [],
   "source": [
    "#Function to remove background from imaging data\n",
    "def remove_backg(img, sig1,sig2):\n",
    "    #img = img.astype('int16')\n",
    "    img_sig =ndi.gaussian_filter(img, (sig1, sig1,sig1))\n",
    "    img_bcg = ndi.gaussian_filter(img, (sig2,sig2,sig2))\n",
    "    cleaned = img_sig - img_bcg\n",
    "    cleaned[cleaned<0]=0\n",
    "    return cleaned"
   ]
  },
  {
   "cell_type": "code",
   "execution_count": null,
   "id": "423f8fc4-ac07-4fcd-9eb9-a0802a598389",
   "metadata": {},
   "outputs": [],
   "source": [
    "#Function to create a DataFrame from instance segmentation\n",
    "def make_obj_table(labels):\n",
    "    props = regionprops(labels)\n",
    "    Results = pd.DataFrame(columns=['id', 'area'])\n",
    "    ids=[]\n",
    "    areas=[]\n",
    "    [(ids.append(r.label),areas.append(r.area)) for r in props]\n",
    "    Results['id']=ids\n",
    "    Results['area']=areas\n",
    "    return Results"
   ]
  },
  {
   "cell_type": "code",
   "execution_count": null,
   "id": "e56a9810-c5f4-4819-85e4-ad0fa8d21229",
   "metadata": {},
   "outputs": [],
   "source": [
    "#Function to compute IOU for one pair of objects\n",
    "def per_object_IoU(labels_immuno, labels_predicted, immuno_id, predicted_id):\n",
    "    mask_immuno = labels_immuno == immuno_id\n",
    "    mask_predicted = labels_predicted == predicted_id\n",
    "\n",
    "    intersection = np.logical_and(mask_immuno, mask_predicted)\n",
    "    union = np.logical_or(mask_immuno, mask_predicted)\n",
    "\n",
    "    iou = np.sum(intersection)/np.sum(union)\n",
    "    return iou"
   ]
  },
  {
   "cell_type": "code",
   "execution_count": null,
   "id": "fa968ffc-8465-44e0-8375-07e8c14bf3f0",
   "metadata": {},
   "outputs": [],
   "source": [
    "#Function to compute Dice coefficient for one pair of objects\n",
    "def per_object_Dice(labels_immuno, labels_predicted, immuno_id, predicted_id):\n",
    "    mask_immuno = labels_immuno == immuno_id\n",
    "    mask_predicted = labels_predicted == predicted_id\n",
    "\n",
    "    intersection = np.logical_and(mask_immuno, mask_predicted)\n",
    "    #union = np.logical_or(mask_immuno, mask_predicted)\n",
    "\n",
    "    dice = 2*np.sum(intersection)/(np.sum(mask_immuno) + np.sum(mask_predicted))\n",
    "    return dice"
   ]
  },
  {
   "cell_type": "markdown",
   "id": "191e0c2f-31a0-479c-8cbb-d0b80e9a43c7",
   "metadata": {},
   "source": [
    "This notebook is used to validate the performance of deep-learning-based pSCR segmentation. The algorithm takes coCATS (N2V), immunostained and predicted BASSOON imaging data as input. \n",
    "\n",
    "Two validation metrics are computed: voxel-based (Pearson correlation), and object-based (F1 curve)\n"
   ]
  },
  {
   "cell_type": "markdown",
   "id": "8d8674bb-8e3a-4ccd-bc07-ca5753275a72",
   "metadata": {},
   "source": [
    "#### Load imaging data"
   ]
  },
  {
   "cell_type": "code",
   "execution_count": null,
   "id": "8ae55559-c994-4be5-b917-782cb6e83dae",
   "metadata": {},
   "outputs": [],
   "source": [
    "#Loads imaging data and BASSOON prediction\n",
    "img_path_cats = '.\\\\data\\\\cats.tiff'\n",
    "img_path_bassoon_immuno = '.\\\\data\\\\immuno_bassoon.tiff'\n",
    "img_path_bassoon_predicted = '.\\\\data\\\\predicted_bassoon.tiff'\n",
    "\n",
    "cats = tifffile.imread(img_path_cats)[0,:,:,:]\n",
    "bassoon_immuno = tifffile.imread(img_path_bassoon_immuno)[0,:,:,:]\n",
    "bassoon_predicted = tifffile.imread(img_path_bassoon_predicted)[0,:,:,:]"
   ]
  },
  {
   "cell_type": "markdown",
   "id": "a151048f-7da3-4c0e-a516-8f84d398895d",
   "metadata": {},
   "source": [
    "#### Metric 1: Pearson correlation between immuno and predicted BASSOON"
   ]
  },
  {
   "cell_type": "code",
   "execution_count": null,
   "id": "a8ef76d1-ef14-4a50-be46-ebed6868a7ad",
   "metadata": {},
   "outputs": [],
   "source": [
    "#Computes voxel-wise Pearson correlation coefficient between immuno and predicted BASSOON\n",
    "array_a = np.ndarray.flatten(bassoon_immuno)\n",
    "array_b = np.ndarray.flatten(bassoon_predicted)\n",
    "correlation = np.corrcoef(array_a, array_b)\n",
    "correlation[1,0]"
   ]
  },
  {
   "cell_type": "markdown",
   "id": "ca2a8bd4-be80-4ba1-a7d4-4465dcfd942a",
   "metadata": {},
   "source": [
    "#### Metric 2: Object-based validation"
   ]
  },
  {
   "cell_type": "code",
   "execution_count": null,
   "id": "e80c28f4-1b4c-47d8-9439-8f0cc18dd180",
   "metadata": {},
   "outputs": [],
   "source": [
    "#Creates masks of immuno and predicted BASSOON data\n",
    "threshhold_bassoon_immuno = threshold_otsu(bassoon_immuno)\n",
    "mask_bassoon_immuno = bassoon_immuno > threshhold_bassoon_immuno\n",
    "threshhold_bassoon_predicted = threshold_otsu(bassoon_predicted)\n",
    "mask_bassoon_predicted = bassoon_predicted > threshhold_bassoon_predicted"
   ]
  },
  {
   "cell_type": "code",
   "execution_count": null,
   "id": "7b09c911-ec9e-4506-8cfd-43b1d397b862",
   "metadata": {},
   "outputs": [],
   "source": [
    "#Stretches contrast of coCATS data\n",
    "vmin, vmax = np.quantile(cats, q=(0.01, 0.99))\n",
    "stretched_cats = rescale_intensity(\n",
    "    cats, \n",
    "    in_range=(vmin, vmax), \n",
    ")\n",
    "#remove background from coCATS data\n",
    "cats_clean = remove_backg(stretched_cats, 0.3,7)\n",
    "\n",
    "#perform errosion operation on coCATS data\n",
    "cats_eroded = erosion(cats_clean, ball(1))"
   ]
  },
  {
   "cell_type": "code",
   "execution_count": null,
   "id": "2846fa22-6f85-4819-9a7e-42c22b1de1cb",
   "metadata": {},
   "outputs": [],
   "source": [
    "#Thresholds erroded coCATS data\n",
    "thresholds = threshold_multiotsu(cats_eroded)\n",
    "cats_mask = cats_eroded>thresholds[1]"
   ]
  },
  {
   "cell_type": "code",
   "execution_count": null,
   "id": "6f26b120-856e-4852-97b0-0244d4121fb4",
   "metadata": {
    "tags": []
   },
   "outputs": [],
   "source": [
    "#Cropps coCATS data according to dilated immuno BASSOON mask\n",
    "mask_cats_immuno = cats_mask*binary_dilation(mask_bassoon_immuno, ball(1))\n",
    "#Creates pSCRimmuno instance segmentation\n",
    "labels_immuno = label(mask_cats_immuno)\n",
    "labels_immuno  = erase_small(labels_immuno, 6)"
   ]
  },
  {
   "cell_type": "code",
   "execution_count": null,
   "id": "6e74d8df-ee52-4d64-8005-6206f3617b4a",
   "metadata": {},
   "outputs": [],
   "source": [
    "#Cropps coCATS data according to dilated predicted BASSOON mask\n",
    "mask_cats_predicted = cats_mask*binary_dilation(mask_bassoon_predicted, ball(1))\n",
    "#Creates pSCRpredicted instance segmentation\n",
    "labels_predicted = label(mask_cats_predicted)\n",
    "labels_predicted = erase_small(labels_predicted, 6)"
   ]
  },
  {
   "cell_type": "code",
   "execution_count": null,
   "id": "c24b0349-c3c7-4cd5-9315-9937698b5315",
   "metadata": {},
   "outputs": [],
   "source": [
    "#Sets up napari Viewer and displays the results\n",
    "viewer = napari.Viewer()\n",
    "viewer.add_image(cats,colormap='gray_r', name='CATS')\n",
    "viewer.add_image(bassoon_immuno, name='bassoon immuno', colormap = 'magenta')\n",
    "viewer.add_image(bassoon_predicted, name='bassoon predicted', colormap = 'magenta')\n",
    "viewer.add_labels(labels_immuno,name='pSCRs immuno')\n",
    "viewer.add_labels(labels_predicted,name='pSCRs predicted')"
   ]
  },
  {
   "cell_type": "code",
   "execution_count": null,
   "id": "182f7cea-dc17-4dc7-acbe-97d65388b76c",
   "metadata": {},
   "outputs": [],
   "source": [
    "#Finds matches between pSCRimmuno and pSCRpredicted segments\n",
    "rp = regionprops(labels_immuno, intensity_image=labels_predicted)\n",
    "selection = [x for x in rp if x.max_intensity > 0]\n",
    "tab1= make_obj_table(labels_immuno)\n",
    "tab1 = tab1.set_index('id')\n",
    "tab1['match_list']=''\n",
    "tab1['ious']=''\n",
    "tab1['max iou']=0\n",
    "for i in selection:\n",
    "    a,counts = np.unique(i.intensity_image,  return_counts=True)\n",
    "    tab1['match_list'].loc[i.label ]= a[a!= 0]\n",
    "    ious=[]\n",
    "    matches = a[a!= 0]\n",
    "    for j in range(len(matches)):\n",
    "        immuno_id = i.label\n",
    "        predicted_id = matches[j]\n",
    "        ious.append(per_object_IoU(labels_immuno, labels_predicted, immuno_id, predicted_id))\n",
    "    tab1['ious'].loc[i.label ]=ious\n",
    "    tab1['max iou'].loc[i.label]=max(ious)"
   ]
  },
  {
   "cell_type": "code",
   "execution_count": null,
   "id": "3cb59292-a643-405a-8e08-ce3128350f82",
   "metadata": {},
   "outputs": [],
   "source": [
    "#Finds matches between pSCRpredicted and pSCRimmuno segments\n",
    "rp = regionprops(labels_predicted, intensity_image=labels_immuno)\n",
    "selection = [x for x in rp if x.max_intensity > 0]\n",
    "tab2= make_obj_table(labels_predicted)\n",
    "tab2 = tab2.set_index('id')\n",
    "tab2['match_list']=''\n",
    "tab2['ious']=''\n",
    "tab2['max iou']=0\n",
    "for i in selection:\n",
    "    a,counts = np.unique(i.intensity_image,  return_counts=True)\n",
    "    tab2['match_list'].loc[i.label ]= a[a!= 0]\n",
    "    ious=[]\n",
    "    matches = a[a!= 0]\n",
    "    for j in range(len(matches)):\n",
    "        predicted_id = i.label\n",
    "        immuno_id = matches[j]\n",
    "        ious.append(per_object_IoU(labels_predicted, labels_immuno, predicted_id, immuno_id))\n",
    "    tab2['ious'].loc[i.label ]=ious\n",
    "    tab2['max iou'].loc[i.label]=max(ious)"
   ]
  },
  {
   "cell_type": "code",
   "execution_count": null,
   "id": "dc7a0e67-347b-4cf9-8606-3adb54b88c57",
   "metadata": {},
   "outputs": [],
   "source": [
    "#Calculates validation metrics per IOU threshold\n",
    "ious = [0,0.1,0.2,0.3,0.4,0.5,0.6,0.7,0.8,0.9]\n",
    "recalls=[]\n",
    "precisions=[]\n",
    "f1s=[]\n",
    "for thr in ious:\n",
    "    TP = len(tab1[tab1['max iou']>thr])\n",
    "    FN = len(tab1)-TP\n",
    "    TP2 = len(tab2[tab2['max iou']>thr])\n",
    "    FP = len(tab2)-TP2\n",
    "    p=TP2/(TP2+FP)\n",
    "    r = TP2/(TP2+FN)\n",
    "    recalls.append(r)\n",
    "    precisions.append(p)\n",
    "    if p==0 or r == 0:\n",
    "        f1s.append(0)  \n",
    "    else:\n",
    "        f1s.append(2*r*p/(r+p))"
   ]
  },
  {
   "cell_type": "code",
   "execution_count": null,
   "id": "33ba96df-38f2-4a77-aae8-6d8bfdf9a29b",
   "metadata": {},
   "outputs": [],
   "source": [
    "#Displays F1 curve\n",
    "fig = plt.figure(figsize=(4,4))\n",
    "plt.plot(ious,f1s, c='k')\n",
    "plt.title('F1 per IOU')\n",
    "plt.xlabel(\"IOU\")\n",
    "plt.ylabel(\"F1\")\n",
    "plt.ylim(0,1)\n",
    "plt.xlim(0,0.9)"
   ]
  }
 ],
 "metadata": {
  "kernelspec": {
   "display_name": "Python 3 (ipykernel)",
   "language": "python",
   "name": "python3"
  },
  "language_info": {
   "codemirror_mode": {
    "name": "ipython",
    "version": 3
   },
   "file_extension": ".py",
   "mimetype": "text/x-python",
   "name": "python",
   "nbconvert_exporter": "python",
   "pygments_lexer": "ipython3",
   "version": "3.7.12"
  }
 },
 "nbformat": 4,
 "nbformat_minor": 5
}
