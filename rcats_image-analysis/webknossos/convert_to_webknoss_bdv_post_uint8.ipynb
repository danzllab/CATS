{
 "cells": [
  {
   "cell_type": "code",
   "execution_count": 4,
   "id": "e9ce83be-b1ee-47e0-b653-623da35b435d",
   "metadata": {},
   "outputs": [],
   "source": [
    "import os\n",
    "import h5py\n",
    "import tifffile\n",
    "import numpy as np\n",
    "import webknossos as wk\n",
    "from webknossos.geometry.mag import Mag\n",
    "\n",
    "from matplotlib import pyplot as plt"
   ]
  },
  {
   "cell_type": "markdown",
   "id": "91421382-5024-4c37-bbe6-062c70adc978",
   "metadata": {},
   "source": [
    "### Convert BDV/HDF5 file to webKnossos\n",
    "---\n",
    "Inputs:"
   ]
  },
  {
   "cell_type": "code",
   "execution_count": 10,
   "id": "ad8cc039-dc49-40cb-959a-b32f06aaeaba",
   "metadata": {},
   "outputs": [],
   "source": [
    "h5_file = \"B:/fs3-bifexchgrp/BIF_StaffSci/Christoph/danzlgrp/Jules/PrePost2/fused/post_n2v_fused.h5\"\n",
    "BLOCK_SIZE=1024"
   ]
  },
  {
   "cell_type": "markdown",
   "id": "f07e5760-c16d-4669-a281-348f9632b36b",
   "metadata": {},
   "source": [
    "### Helper functions"
   ]
  },
  {
   "cell_type": "code",
   "execution_count": 11,
   "id": "7feb9ce3-c53d-4cf3-84a8-7185a41725e0",
   "metadata": {},
   "outputs": [],
   "source": [
    "def get_h5ds(h5_file, c, mag):\n",
    "    hf = h5py.File(h5_file, \"r\")\n",
    "\n",
    "    df = hf[f\"t00000/s0{c}/{mag}/cells\"]\n",
    "    z, y, x = df.shape\n",
    "\n",
    "    return df\n",
    "\n",
    "def my_block_iter(shape, block_size):\n",
    "    z_slc = slice(0, shape[0])\n",
    "    blocks_y = shape[1] // block_size\n",
    "    blocks_x = shape[2] // block_size\n",
    "    \n",
    "    for by in range(blocks_y+1):\n",
    "        y_slc = slice(by*block_size,min(shape[1],(by+1)*block_size))\n",
    "        for bx in range(blocks_x+1):\n",
    "            x_slc = slice(bx*block_size,min(shape[2],(bx+1)*block_size))\n",
    "            yield z_slc, y_slc, x_slc"
   ]
  },
  {
   "cell_type": "markdown",
   "id": "695c7bd1-655e-4287-98e4-b5863bec540a",
   "metadata": {},
   "source": [
    "### Output and intensity rescaling"
   ]
  },
  {
   "cell_type": "code",
   "execution_count": 12,
   "id": "5056699b-86b6-46f7-a761-fc77769c3bba",
   "metadata": {},
   "outputs": [],
   "source": [
    "dataset = wk.Dataset(\"B:/fs3-bifexchgrp/BIF_StaffSci/Christoph/danzlgrp/Jules/PrePost2/fused/post_wk_uint8/\", scale=(150, 150, 150))"
   ]
  },
  {
   "cell_type": "code",
   "execution_count": 13,
   "id": "e3c2284e-b3f1-4d5d-a9d2-6c601bde2096",
   "metadata": {},
   "outputs": [],
   "source": [
    "min_maxs = [(100, 355), (64500, 65536), (100,355)]"
   ]
  },
  {
   "cell_type": "markdown",
   "id": "79221a88-fc63-4071-b9b9-a970d67dbc18",
   "metadata": {},
   "source": [
    "### Convert"
   ]
  },
  {
   "cell_type": "code",
   "execution_count": null,
   "id": "a785111f-2201-4b10-9a37-4528dd863293",
   "metadata": {},
   "outputs": [],
   "source": [
    "for c in range(3):\n",
    "    h5ds = get_h5ds(h5_file, c=c, mag=0)\n",
    "    print(h5ds.shape)\n",
    "\n",
    "    layer = dataset.add_layer(\n",
    "        layer_name=f\"channel_{c}\", category=\"color\", dtype_per_channel=\"uint8\", num_channels=1\n",
    "    )\n",
    "\n",
    "    mag1 = layer.add_mag(\"1\")\n",
    "    print(\"Channel\", c)\n",
    "    \n",
    "    mi, ma = min_maxs[c]\n",
    "\n",
    "    for z_slc, y_slc, x_slc in my_block_iter(h5ds.shape, BLOCK_SIZE):\n",
    "        z_start = z_slc.start\n",
    "        y_start = y_slc.start\n",
    "        x_start = x_slc.start\n",
    "\n",
    "        data = h5ds[z_slc, y_slc, x_slc].astype(\"uint16\")\n",
    "        data = data.swapaxes(0, 2)\n",
    "        \n",
    "        data = (255*((data.astype(\"float32\") - mi) / (ma - mi))).astype(\"uint8\")\n",
    "\n",
    "        mag1.write(data=data, absolute_offset=(x_start, y_start, z_start))\n",
    "        print(\".\", end=\"\")\n",
    "\n",
    "    layer.downsample(\n",
    "        Mag(1),\n",
    "        Mag(4),\n",
    "    )    \n",
    "    \n",
    "        "
   ]
  },
  {
   "cell_type": "code",
   "execution_count": null,
   "id": "e93247fd-3984-4a41-b4f1-6d7a5f630ddb",
   "metadata": {},
   "outputs": [],
   "source": []
  }
 ],
 "metadata": {
  "kernelspec": {
   "display_name": "bdv",
   "language": "python",
   "name": "bdv"
  },
  "language_info": {
   "codemirror_mode": {
    "name": "ipython",
    "version": 3
   },
   "file_extension": ".py",
   "mimetype": "text/x-python",
   "name": "python",
   "nbconvert_exporter": "python",
   "pygments_lexer": "ipython3",
   "version": "3.8.12"
  }
 },
 "nbformat": 4,
 "nbformat_minor": 5
}
